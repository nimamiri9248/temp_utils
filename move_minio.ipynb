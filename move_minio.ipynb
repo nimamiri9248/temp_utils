{
 "cells": [
  {
   "cell_type": "code",
   "execution_count": 1,
   "metadata": {},
   "outputs": [],
   "source": [
    "from pydantic_settings import BaseSettings\n",
    "from minio import Minio\n",
    "from minio.error import S3Error\n",
    "from minio.commonconfig import CopySource"
   ]
  },
  {
   "cell_type": "code",
   "execution_count": 2,
   "metadata": {},
   "outputs": [],
   "source": [
    "class MinIOSettings(BaseSettings):\n",
    "    minio_endpoint: str = \"localhost:9000\"\n",
    "    minio_access_key: str = \"admin\"\n",
    "    minio_secret_key: str = \"password123\"\n",
    "    minio_secure: bool = False\n",
    "    minio_bucket_name: str = \"hello\"\n",
    "\n",
    "    class Config:\n",
    "        env_file = \".env\"\n",
    "        \n",
    "settings = MinIOSettings()"
   ]
  },
  {
   "cell_type": "code",
   "execution_count": 3,
   "metadata": {},
   "outputs": [],
   "source": [
    "minio_client = Minio(\n",
    "        settings.minio_endpoint,\n",
    "        access_key=settings.minio_access_key,\n",
    "        secret_key=settings.minio_secret_key,\n",
    "        secure=settings.minio_secure,\n",
    "    )"
   ]
  },
  {
   "cell_type": "code",
   "execution_count": 4,
   "metadata": {},
   "outputs": [],
   "source": [
    "\n",
    "def normalize_prefix(p: str) -> str:\n",
    "    if not p:\n",
    "        return \"\"\n",
    "    return p if p.endswith(\"/\") else p + \"/\""
   ]
  },
  {
   "cell_type": "code",
   "execution_count": 8,
   "metadata": {},
   "outputs": [],
   "source": [
    "def move_minio_prefix(\n",
    "    src_bucket: str,\n",
    "    src_prefix: str,\n",
    "    dest_bucket: str,\n",
    "    dest_prefix: str,\n",
    "    *,\n",
    "    overwrite: bool = False,\n",
    "):\n",
    "\n",
    "    src_prefix = normalize_prefix(src_prefix)\n",
    "    dest_prefix = normalize_prefix(dest_prefix)\n",
    "\n",
    "    if not minio_client.bucket_exists(src_bucket):\n",
    "        raise RuntimeError(f\"Source bucket does not exist: {src_bucket}\")\n",
    "    if not minio_client.bucket_exists(dest_bucket):\n",
    "        raise RuntimeError(f\"dest bucket does not exist: {src_bucket}\") \n",
    "\n",
    "    moved = copied = skipped = errors = 0\n",
    "\n",
    "    for obj in minio_client.list_objects(src_bucket, prefix=src_prefix, recursive=True):\n",
    "        key = obj.object_name\n",
    "        tail = key[len(src_prefix):] if src_prefix and key.startswith(src_prefix) else key\n",
    "        dest_key = f\"{dest_prefix}{tail}\"\n",
    "\n",
    "        if not overwrite:\n",
    "            try:\n",
    "                minio_client.stat_object(dest_bucket, dest_key)\n",
    "                print(f\"SKIP (exists): s3://{dest_bucket}/{dest_key}\")\n",
    "                skipped += 1\n",
    "                continue\n",
    "            except S3Error as e:\n",
    "                if e.code not in (\"NoSuchKey\", \"NotFound\"):\n",
    "                    raise\n",
    "\n",
    "        print(f\"COPY: {src_bucket}/{key} {dest_bucket}/{dest_key}\")\n",
    "        try:\n",
    "            minio_client.copy_object(dest_bucket, dest_key, CopySource(src_bucket, key))\n",
    "            copied += 1\n",
    "            minio_client.remove_object(src_bucket, key)\n",
    "            moved += 1\n",
    "            print(f\"DELETE: {src_bucket}/{key}\")\n",
    "        except Exception as e:\n",
    "            errors += 1\n",
    "            print(f\"ERROR moving {key}: {e}\")\n",
    "            \n",
    "    print(f\"moved={moved}, copied={copied}, skipped={skipped}, errors={errors}\")\n",
    "\n"
   ]
  },
  {
   "cell_type": "code",
   "execution_count": 10,
   "metadata": {},
   "outputs": [
    {
     "name": "stdout",
     "output_type": "stream",
     "text": [
      "COPY: hello2/hello8/hello2/8b050e3725b1a1c2dd610b4fa3ffd852.jpg hello2/salam/man/8b050e3725b1a1c2dd610b4fa3ffd852.jpg\n",
      "DELETE: hello2/hello8/hello2/8b050e3725b1a1c2dd610b4fa3ffd852.jpg\n",
      "moved=1, copied=1, skipped=0, errors=0\n"
     ]
    }
   ],
   "source": [
    "\n",
    "src_bucket = \"hello2\"\n",
    "src_prefix = \"hello8/hello2\"\n",
    "dest_bucket = \"hello2\"\n",
    "dest_prefix = \"salam/man\"\n",
    "overwrite = False\n",
    "move_minio_prefix(\n",
    "    src_bucket, src_prefix,\n",
    "    dest_bucket, dest_prefix,\n",
    "    overwrite=overwrite,\n",
    ")"
   ]
  }
 ],
 "metadata": {
  "kernelspec": {
   "display_name": "test_minio",
   "language": "python",
   "name": "python3"
  },
  "language_info": {
   "codemirror_mode": {
    "name": "ipython",
    "version": 3
   },
   "file_extension": ".py",
   "mimetype": "text/x-python",
   "name": "python",
   "nbconvert_exporter": "python",
   "pygments_lexer": "ipython3",
   "version": "3.12.11"
  }
 },
 "nbformat": 4,
 "nbformat_minor": 2
}
