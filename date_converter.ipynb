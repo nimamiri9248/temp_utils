{
 "cells": [
  {
   "cell_type": "code",
   "execution_count": 50,
   "metadata": {},
   "outputs": [],
   "source": [
    "from datetime import datetime\n",
    "import jdatetime\n",
    "\n",
    "def get_date_intervals(\n",
    "    date_input: str,\n",
    "    interval_count: int = 6,\n",
    "    include_first_interval: bool = False\n",
    ") -> list[str] | None:\n",
    "    parts = date_input.replace('/', '-').split('-')\n",
    "    year: int = int(parts[0])\n",
    "    month: int = int(parts[1])\n",
    "    day: int = int(parts[2]) \n",
    "    \n",
    "    if year > 1500:\n",
    "        try:\n",
    "            gregorian_date = datetime(year, month, day)\n",
    "            shamsi_date = jdatetime.date.fromgregorian(date=gregorian_date.date())\n",
    "            year = shamsi_date.year\n",
    "            month = shamsi_date.month\n",
    "            day = shamsi_date.day\n",
    "        except Exception as e:\n",
    "            print(e)\n",
    "            return None\n",
    "    \n",
    "    dates: list[str] = []\n",
    "    loops = interval_count + 1 if not include_first_interval else interval_count\n",
    "    \n",
    "    for _ in range(loops):   \n",
    "        month -= 2\n",
    "        if month < 1:\n",
    "            month += 12\n",
    "            year -= 1\n",
    "\n",
    "        if month <= 6:\n",
    "            max_day: int = 31\n",
    "        elif month <= 11:\n",
    "            max_day = 30\n",
    "        else:\n",
    "            cycle: int = year % 33\n",
    "            max_day = 30 if cycle in [1, 5, 9, 13, 17, 22, 26, 30] else 29\n",
    "        \n",
    "        day = min(day, max_day)\n",
    "        dates.append(f\"{year:04d}{month:02d}{day:02d}\")\n",
    "    \n",
    "    return dates[1:] if include_first_interval else dates"
   ]
  },
  {
   "cell_type": "code",
   "execution_count": 52,
   "metadata": {},
   "outputs": [],
   "source": [
    "PERSIAN_MONTHS = {\n",
    "    1: 'فروردین',\n",
    "    2: 'اردیبهشت',\n",
    "    3: 'خرداد',\n",
    "    4: 'تیر',\n",
    "    5: 'مرداد',\n",
    "    6: 'شهریور',\n",
    "    7: 'مهر',\n",
    "    8: 'آبان',\n",
    "    9: 'آذر',\n",
    "    10: 'دی',\n",
    "    11: 'بهمن',\n",
    "    12: 'اسفند'\n",
    "}"
   ]
  },
  {
   "cell_type": "code",
   "execution_count": 53,
   "metadata": {},
   "outputs": [],
   "source": [
    "def format_persian_date(date_str: str):\n",
    "    year = int(date_str[:4])\n",
    "    month = int(date_str[4:6])\n",
    "    day = int(date_str[6:8])\n",
    "    \n",
    "    month_name = PERSIAN_MONTHS[month]\n",
    "    \n",
    "    return f\"{year} {month_name} {day}\""
   ]
  },
  {
   "cell_type": "code",
   "execution_count": 54,
   "metadata": {},
   "outputs": [],
   "source": [
    "def is_interval_updated(date_input: str, number: int):\n",
    "    if len(date_input) == 8 and date_input.isdigit():\n",
    "        year = int(date_input[:4])\n",
    "        month = int(date_input[4:6])\n",
    "        day = int(date_input[6:8])\n",
    "    else:\n",
    "        parts = date_input.replace('/', '-').split('-')\n",
    "        year = int(parts[0])\n",
    "        month = int(parts[1])\n",
    "        day = int(parts[2])\n",
    "    if year > 1500:\n",
    "        try:\n",
    "            gregorian_date = datetime(year, month, day)\n",
    "            shamsi_date = jdatetime.date.fromgregorian(date=gregorian_date.date())\n",
    "            day = shamsi_date.day\n",
    "        except Exception as e:\n",
    "            print(e)\n",
    "            return None\n",
    "    \n",
    "    return number < day"
   ]
  },
  {
   "cell_type": "code",
   "execution_count": 55,
   "metadata": {},
   "outputs": [
    {
     "data": {
      "text/plain": [
       "['14040830', '14040630', '14040430', '14040230', '14031230', '14031030']"
      ]
     },
     "execution_count": 55,
     "metadata": {},
     "output_type": "execute_result"
    }
   ],
   "source": [
    "dates = get_date_intervals('1404-10-30')\n",
    "dates"
   ]
  },
  {
   "cell_type": "code",
   "execution_count": 56,
   "metadata": {},
   "outputs": [
    {
     "name": "stdout",
     "output_type": "stream",
     "text": [
      "1404 آبان 30\n",
      "1404 شهریور 30\n",
      "1404 تیر 30\n",
      "1404 اردیبهشت 30\n",
      "1403 اسفند 30\n",
      "1403 دی 30\n"
     ]
    }
   ],
   "source": [
    "for date in dates:\n",
    "    print(format_persian_date(date))"
   ]
  },
  {
   "cell_type": "code",
   "execution_count": 57,
   "metadata": {},
   "outputs": [
    {
     "data": {
      "text/plain": [
       "True"
      ]
     },
     "execution_count": 57,
     "metadata": {},
     "output_type": "execute_result"
    }
   ],
   "source": [
    "is_interval_updated(\"1404-07-15\",10)"
   ]
  },
  {
   "cell_type": "code",
   "execution_count": 58,
   "metadata": {},
   "outputs": [
    {
     "data": {
      "text/plain": [
       "['14040630',\n",
       " '14040430',\n",
       " '14040230',\n",
       " '14031230',\n",
       " '14031030',\n",
       " '14030830',\n",
       " '14030630']"
      ]
     },
     "execution_count": 58,
     "metadata": {},
     "output_type": "execute_result"
    }
   ],
   "source": [
    "if is_interval_updated:\n",
    "    dates = get_date_intervals('1404-10-30', 7, skip=is_interval_updated)\n",
    "else:\n",
    "    dates = get_date_intervals('1404-10-30', 6, skip=is_interval_updated)\n",
    "dates    "
   ]
  }
 ],
 "metadata": {
  "kernelspec": {
   "display_name": "test_minio",
   "language": "python",
   "name": "python3"
  },
  "language_info": {
   "codemirror_mode": {
    "name": "ipython",
    "version": 3
   },
   "file_extension": ".py",
   "mimetype": "text/x-python",
   "name": "python",
   "nbconvert_exporter": "python",
   "pygments_lexer": "ipython3",
   "version": "3.12.11"
  }
 },
 "nbformat": 4,
 "nbformat_minor": 2
}
